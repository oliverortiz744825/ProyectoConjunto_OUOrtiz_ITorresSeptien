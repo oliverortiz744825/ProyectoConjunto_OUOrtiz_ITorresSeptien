{
 "cells": [
  {
   "cell_type": "code",
   "execution_count": 4,
   "id": "d2d17061",
   "metadata": {},
   "outputs": [
    {
     "name": "stdout",
     "output_type": "stream",
     "text": [
      "Oliver Ulises Ortiz González\n",
      "\n",
      "Mi espectativa del curso, es saber como puedo generar nuevas alternativas mas faciles para solicionar problemas de manera mas sencilla.\n"
     ]
    }
   ],
   "source": [
    "print(\"Oliver Ulises Ortiz González\")\n",
    "print(\"\")\n",
    "print(\"Mi espectativa del curso, es saber como puedo generar nuevas alternativas mas faciles para solicionar problemas de manera mas sencilla.\")  "
   ]
  },
  {
   "cell_type": "code",
   "execution_count": null,
   "id": "b825bca1",
   "metadata": {},
   "outputs": [],
   "source": []
  },
  {
   "cell_type": "code",
   "execution_count": 44,
   "id": "fdaccc99",
   "metadata": {
    "scrolled": true
   },
   "outputs": [
    {
     "name": "stdout",
     "output_type": "stream",
     "text": [
      "| i | x    | f(x)   |\n",
      "|---|------|--------|\n",
      "| 0 | -1   | 0.3678 |\n",
      "\u001b[91m| 1 | -0.5 | 0.7788 |\u001b[0m\n",
      "\u001b[94m| 2 | 0    | 1      |\u001b[0m\n",
      "\u001b[91m| 1 | -0.5 | 0.7788 |\u001b[0m\n",
      "| 4 | 1    | 0.3678 |\n",
      "\n",
      "\\int_{-1}^1 e^{-x^2} \\, dx ≈ 0.5/3[f(-1) + f(1) + 4(\u001b[91mf(-0.5) + f(0.5)\u001b[0m) + 2(\u001b[94mf(0)\u001b[0m)\n",
      "≈ 0.5/3[f(-1) + f(1) + 4(\u001b[91m0.7788 + 0.7788\u001b[0m) + 2*\u001b[94m1\u001b[0m] ≈ \\int_{1.4943}\n"
     ]
    }
   ],
   "source": [
    "import numpy as np\n",
    "\n",
    "print(\"| i | x    | f(x)   |\")\n",
    "print(\"|---|------|--------|\")\n",
    "print(\"| 0 | -1   | 0.3678 |\")\n",
    "print(\"\\033[91m| 1 | -0.5 | 0.7788 |\\033[0m\")\n",
    "print(\"\\033[94m| 2 | 0    | 1      |\\033[0m\")\n",
    "print(\"\\033[91m| 1 | -0.5 | 0.7788 |\\033[0m\")\n",
    "print(\"| 4 | 1    | 0.3678 |\")\n",
    "print(\"\")\n",
    "print(\"\\int_{-1}^1 e^{-x^2} \\, dx ≈ 0.5/3[f(-1) + f(1) + 4(\\033[91mf(-0.5) + f(0.5)\\033[0m) + 2(\\033[94mf(0)\\033[0m)\")\n",
    "print(\"≈ 0.5/3[f(-1) + f(1) + 4(\\033[91m0.7788 + 0.7788\\033[0m) + 2*\\033[94m1\\033[0m] ≈ \\int_{1.4943}\")\n",
    "\n"
   ]
  },
  {
   "cell_type": "code",
   "execution_count": 45,
   "id": "36eaa129",
   "metadata": {},
   "outputs": [
    {
     "name": "stdout",
     "output_type": "stream",
     "text": [
      "[0, 1, 1, 2, 3, 5, 8, 13, 21, 34, 55, 89, 144, 233, 377, 610, 987, 1597, 2584, 4181, 6765, 10946, 17711, 28657, 46368, 75025, 121393, 196418, 317811, 514229, 832040, 1346269, 2178309, 3524578, 5702887, 9227465, 14930352, 24157817, 39088169, 63245986, 102334155, 165580141, 267914296, 433494437, 701408733, 1134903170, 1836311903, 2971215073, 4807526976, 7778742049, 12586269025, 20365011074, 32951280099, 53316291173, 86267571272, 139583862445, 225851433717, 365435296162, 591286729879, 956722026041, 1548008755920, 2504730781961, 4052739537881, 6557470319842, 10610209857723, 17167680177565, 27777890035288, 44945570212853, 72723460248141, 117669030460994, 190392490709135, 308061521170129, 498454011879264, 806515533049393, 1304969544928657, 2111485077978050, 3416454622906707, 5527939700884757, 8944394323791464, 14472334024676221, 23416728348467685, 37889062373143906, 61305790721611591, 99194853094755497, 160500643816367088, 259695496911122585, 420196140727489673, 679891637638612258, 1100087778366101931, 1779979416004714189, 2880067194370816120, 4660046610375530309, 7540113804746346429, 12200160415121876738, 19740274219868223167, 31940434634990099905, 51680708854858323072, 83621143489848422977, 135301852344706746049, 218922995834555169026]\n"
     ]
    }
   ],
   "source": [
    "def fibonacci(n):\n",
    "    fib_array = [0, 1]  \n",
    "    \n",
    "    while len(fib_array) < n:\n",
    "        next_term = fib_array[-1] + fib_array[-2]\n",
    "        fib_array.append(next_term)\n",
    "    \n",
    "    return fib_array\n",
    "\n",
    "first_100_terms = fibonacci(100)\n",
    "print(first_100_terms)"
   ]
  },
  {
   "cell_type": "code",
   "execution_count": null,
   "id": "4a0556cd",
   "metadata": {},
   "outputs": [],
   "source": []
  }
 ],
 "metadata": {
  "kernelspec": {
   "display_name": "Python 3 (ipykernel)",
   "language": "python",
   "name": "python3"
  },
  "language_info": {
   "codemirror_mode": {
    "name": "ipython",
    "version": 3
   },
   "file_extension": ".py",
   "mimetype": "text/x-python",
   "name": "python",
   "nbconvert_exporter": "python",
   "pygments_lexer": "ipython3",
   "version": "3.11.4"
  }
 },
 "nbformat": 4,
 "nbformat_minor": 5
}
